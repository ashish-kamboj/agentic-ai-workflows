{
 "cells": [
  {
   "cell_type": "markdown",
   "id": "2040e495",
   "metadata": {},
   "source": [
    "# CrewAI Workflow: E-commerce Price Monitoring with Groq LLM\n",
    "\n",
    "This notebook demonstrates a simple single-agent workflow using CrewAI:\n",
    "- Price Intelligence Analyst searches for products and identifies the best deals\n",
    "\n",
    "It showcases how to:\n",
    "- Configure an LLM provider (Groq) for CrewAI\n",
    "- Configure a website search tool (Amazon-focused) with an embedder\n",
    "- Define an Agent with role, goal, and backstory\n",
    "- Create a parameterized Task and execute the crew\n",
    "- Render results in the notebook\n",
    "\n",
    "Prerequisites:\n",
    "- A valid `GROQ_API_KEY` available as an environment variable\n",
    "- Python 3.10+ and the packages: `crewai`, `groq`, `crewai-tools` (versions per your environment)\n",
    "\n",
    "Tip: If running in a new environment, install deps first in a separate cell.\n"
   ]
  },
  {
   "cell_type": "markdown",
   "id": "2bad71e7",
   "metadata": {},
   "source": [
    "## Setup and Dependencies\n",
    "\n",
    "Install the required packages (skip if already installed):\n",
    "\n",
    "```python\n",
    "# !pip install crewai groq crewai-tools\n",
    "```\n",
    "\n",
    "Then import the core classes and tools you'll use from CrewAI.\n"
   ]
  },
  {
   "cell_type": "code",
   "execution_count": null,
   "id": "aecfe392",
   "metadata": {},
   "outputs": [],
   "source": [
    "# !pip install crewai groq crewai-tools"
   ]
  },
  {
   "cell_type": "markdown",
   "id": "7e59a130",
   "metadata": {},
   "source": [
    "## Configure the LLM (Groq)\n",
    "\n",
    "This notebook uses Groq's hosted LLM via CrewAI.\n",
    "- Ensure `GROQ_API_KEY` is set in your environment (Windows: `setx GROQ_API_KEY \"<your-key>\"`, macOS/Linux: `export GROQ_API_KEY=<your-key>` then restart your shell).\n",
    "- Choose a supported model string (e.g., `groq/llama-3.3-70b-versatile`).\n",
    "\n",
    "If the key is missing, CrewAI will raise an authentication error when the agent runs.\n"
   ]
  },
  {
   "cell_type": "code",
   "execution_count": null,
   "id": "0fb33b54",
   "metadata": {},
   "outputs": [],
   "source": [
    "# Core CrewAI building blocks and a website search tool\n",
    "from crewai import Agent, Task, Crew, LLM\n",
    "from crewai_tools import WebsiteSearchTool"
   ]
  },
  {
   "cell_type": "markdown",
   "id": "4ccaf0d4",
   "metadata": {},
   "source": [
    "## Configure the Website Search Tool (Amazon)\n",
    "\n",
    "We specialize the `WebsiteSearchTool` to `amazon.com` and set both the LLM provider and the embedder:\n",
    "- LLM: Groq model used for reasoning and extraction\n",
    "- Embedder: local `ollama` endpoint (`nomic-embed-text`) for vectorization\n"
   ]
  },
  {
   "cell_type": "code",
   "execution_count": null,
   "id": "e3bea660",
   "metadata": {},
   "outputs": [],
   "source": [
    "# Instantiate the shared LLM used by the agent and tool\n",
    "llm = LLM(model=\"groq/llama-3.3-70b-versatile\")"
   ]
  },
  {
   "cell_type": "code",
   "execution_count": null,
   "id": "f1310213",
   "metadata": {},
   "outputs": [],
   "source": [
    "# E-commerce focused search tool\n",
    "# Configures an Amazon-specific retriever with Groq LLM and a local Ollama embedder\n",
    "price_monitor_tool = WebsiteSearchTool(\n",
    "    website=\"https://amazon.com\",\n",
    "    config=dict(\n",
    "        llm=dict(\n",
    "            provider=\"groq\",\n",
    "            config=dict(\n",
    "                model=\"llama-3.3-70b-versatile\",\n",
    "                temperature=0.2\n",
    "            ),\n",
    "        ),\n",
    "        embedder=dict(\n",
    "            provider=\"ollama\",\n",
    "            config=dict(\n",
    "                model=\"nomic-embed-text:latest\",\n",
    "                base_url=\"http://localhost:11434\"\n",
    "            ),\n",
    "        ),\n",
    "    ),\n",
    ")"
   ]
  },
  {
   "cell_type": "markdown",
   "id": "3a26cb70",
   "metadata": {},
   "source": [
    "## Define Agent and Task\n",
    "\n",
    "We define one agent with a clear role and goal, then create a single task parameterized by category and budget.\n"
   ]
  },
  {
   "cell_type": "code",
   "execution_count": null,
   "id": "6a02b92c",
   "metadata": {},
   "outputs": [],
   "source": [
    "# Define the agent persona and connect the tool and LLM\n",
    "price_agent = Agent(\n",
    "    role=\"Price Intelligence Analyst\",\n",
    "    goal=\"Monitor product prices and find best deals across e-commerce platforms\",\n",
    "    backstory=\"You're a savvy shopping expert who tracks price trends and identifies bargains.\",\n",
    "    tools=[price_monitor_tool],  # grants the agent the ability to search and parse Amazon pages\n",
    "    llm=llm,\n",
    "    verbose=True\n",
    ")\n",
    "\n",
    "# Create a task template parameterized by product category and budget\n",
    "price_task = Task(\n",
    "    description=\"Find the best deals on {product_category} under ${budget}\",\n",
    "    expected_output=\"List of top 5 products with prices, ratings, and deal alerts\",\n",
    "    agent=price_agent\n",
    ")"
   ]
  },
  {
   "cell_type": "markdown",
   "id": "580c29bd",
   "metadata": {},
   "source": [
    "## Run and Render Results\n",
    "\n",
    "Execute the crew with `crew.kickoff()` and then render the final output. In this workflow, the output is the list of best deals identified by the agent.\n"
   ]
  },
  {
   "cell_type": "code",
   "execution_count": null,
   "id": "87cdb991",
   "metadata": {},
   "outputs": [],
   "source": [
    "# Assemble the crew with our single agent and run the workflow\n",
    "crew = Crew(\n",
    "    agents=[price_agent],\n",
    "    tasks=[price_task],\n",
    "    verbose=True\n",
    ")\n",
    "\n",
    "# Provide runtime inputs for the templated task\n",
    "result = crew.kickoff(inputs={\"product_category\": \"Electronics\", \"budget\": 300})"
   ]
  },
  {
   "cell_type": "markdown",
   "id": "0ab3c3ad",
   "metadata": {},
   "source": [
    "### Present the results\n",
    "We render the `result` as Markdown for readability in the notebook.\n"
   ]
  },
  {
   "cell_type": "code",
   "execution_count": null,
   "id": "ca37e4c3",
   "metadata": {},
   "outputs": [],
   "source": [
    "# Display the result in formatted markdown for better readability\n",
    "from IPython.display import Markdown, display\n",
    "\n",
    "# Convert result (which may be a structured object) to string and display\n",
    "# Using Markdown ensures nicer rendering in the notebook UI\n",
    "display(Markdown(str(result)))"
   ]
  }
 ],
 "metadata": {
  "kernelspec": {
   "display_name": "crewai_venv",
   "language": "python",
   "name": "python3"
  },
  "language_info": {
   "codemirror_mode": {
    "name": "ipython",
    "version": 3
   },
   "file_extension": ".py",
   "mimetype": "text/x-python",
   "name": "python",
   "nbconvert_exporter": "python",
   "pygments_lexer": "ipython3",
   "version": "3.11.3"
  }
 },
 "nbformat": 4,
 "nbformat_minor": 5
}
